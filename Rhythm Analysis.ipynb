{
 "cells": [
  {
   "cell_type": "code",
   "execution_count": null,
   "metadata": {},
   "outputs": [],
   "source": [
    "import music21 as m21 \n",
    "from music21 import *\n",
    "\n",
    "stream1 = m21.converter.parse(\"\"\"tinynotation: 4/4 f4 f8 f8 f4 r8 f8 f4 f8 f8 f4 r8 f8 \n",
    "                              f4 f8 f8 f4 r8 f8 f4 f8 f8 f4 r8 f8\"\"\")\n",
    "stream1.show() \n",
    "sp = midi.realtime.StreamPlayer(stream1)\n",
    "sp.play()\n",
    "\n",
    "stream2 = m21.converter.parse(\"tinynotation: 4/4 c4 c c c c c c c c c c c c c c c\")\n",
    "s2 = stream.Score(id='mainScore')\n",
    "s2.insert(stream1)\n",
    "s2.insert(stream2)\n",
    "s2.show()\n",
    "sp2 = midi.realtime.StreamPlayer(s2)\n",
    "sp2.play()\n",
    "\n",
    "stream3 = m21.converter.parse(\"tinynotation: 4/4 c8 c c c c c c c c c c c c c c c c c c c c c c c c c c c c c c c\")\n",
    "s3 = stream.Score(id='mainScore')\n",
    "s3.insert(stream1)\n",
    "s3.insert(stream2)\n",
    "s3.show()\n",
    "sp3 = midi.realtime.StreamPlayer(s3)\n",
    "sp3.play()\n",
    "\n",
    "stream4 = m21.converter.parse(\"tinynotation: 4/4 c1 c c c\")\n",
    "s4 = stream.Score(id='mainScore')\n",
    "s4.insert(stream1)\n",
    "s4.insert(stream2)\n",
    "s4.show()\n",
    "sp4 = midi.realtime.StreamPlayer(s4)\n",
    "sp4.play()"
   ]
  }
 ],
 "metadata": {
  "kernelspec": {
   "display_name": "Python 3",
   "language": "python",
   "name": "python3"
  },
  "language_info": {
   "codemirror_mode": {
    "name": "ipython",
    "version": 3
   },
   "file_extension": ".py",
   "mimetype": "text/x-python",
   "name": "python",
   "nbconvert_exporter": "python",
   "pygments_lexer": "ipython3",
   "version": "3.8.5"
  }
 },
 "nbformat": 4,
 "nbformat_minor": 4
}
